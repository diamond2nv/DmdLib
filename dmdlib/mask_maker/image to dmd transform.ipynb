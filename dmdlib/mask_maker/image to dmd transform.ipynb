{
 "cells": [
  {
   "cell_type": "code",
   "execution_count": 2,
   "metadata": {
    "collapsed": true
   },
   "outputs": [],
   "source": [
    "import numpy as np\n",
    "import PIL\n",
    "import cv2\n",
    "import matplotlib.pyplot as plt\n",
    "from dmdlib.ALP import *\n",
    "%matplotlib inline"
   ]
  },
  {
   "cell_type": "code",
   "execution_count": 3,
   "metadata": {},
   "outputs": [
    {
     "name": "stdout",
     "output_type": "stream",
     "text": [
      "Device image size is 1024 x 768.\n",
      "set PROJ_MODE: master 0\n",
      "(1, 768, 1024)\n",
      "Press Enter key to end...\n"
     ]
    }
   ],
   "source": [
    "dmd = np.array(disp_affine_pattern(), dtype='float32')"
   ]
  },
  {
   "cell_type": "code",
   "execution_count": null,
   "metadata": {},
   "outputs": [],
   "source": []
  },
  {
   "cell_type": "code",
   "execution_count": 4,
   "metadata": {},
   "outputs": [],
   "source": [
    "# displays right to left on the camera image.\n",
    "\n",
    "# dmd = np.array(([450, 300], [550, 275], [500, 430]), dtype='float32')\n",
    "pic = np.array([[1321, 791],[1092, 433], [802, 1040]], dtype='float32')\n",
    "# pic = np.fliplr(pic)\n",
    "# pic = np.flipud(pic)"
   ]
  },
  {
   "cell_type": "code",
   "execution_count": 5,
   "metadata": {},
   "outputs": [
    {
     "name": "stdout",
     "output_type": "stream",
     "text": [
      "[[ 1321.   791.]\n",
      " [ 1092.   433.]\n",
      " [  802.  1040.]]\n"
     ]
    }
   ],
   "source": [
    "print(pic)"
   ]
  },
  {
   "cell_type": "code",
   "execution_count": 6,
   "metadata": {
    "collapsed": true
   },
   "outputs": [],
   "source": [
    "pic_to_dmd = cv2.getAffineTransform(pic, dmd)"
   ]
  },
  {
   "cell_type": "code",
   "execution_count": 7,
   "metadata": {
    "collapsed": true
   },
   "outputs": [],
   "source": [
    "from PIL import Image, ImageFont\n",
    "import numpy as np\n",
    "import numba\n",
    "\n",
    "font = ImageFont.load_default()\n",
    "\n",
    "def make_text_fast(text, array, margins=(10, 10, 150, 150),):\n",
    "    height, width = array.shape\n",
    "    mask = font.getmask(text)\n",
    "    mask_array = np.asarray(mask, dtype=bool)\n",
    "    mask_array.shape = mask.size[1], mask.size[0]\n",
    "    top, bottom, left, right = margins\n",
    "    _array_maker(array, mask_array, top, bottom, left, right, width, height)\n",
    "    return array\n",
    "\n",
    "# @numba.jit(nopython=True, parallel=True)\n",
    "def _array_maker(arrayout, arrayin, top, bottom, left, right, width, height):\n",
    "    W_margins = width - right - left\n",
    "    H_margins = height - top - bottom\n",
    "    mH, mW = arrayin.shape\n",
    "    W_scale = np.ceil(W_margins / mW)\n",
    "    H_scale = np.ceil(H_margins / mH)\n",
    "\n",
    "    for x in range(W_margins):\n",
    "        x_mask = int(x // W_scale)\n",
    "        for y in range(H_margins):\n",
    "            y_mask = int(y // H_scale)\n",
    "            maskv = arrayin[y_mask, x_mask]\n",
    "            arrayout[y+top, x+left] = maskv\n",
    "    return"
   ]
  },
  {
   "cell_type": "code",
   "execution_count": 8,
   "metadata": {
    "collapsed": true
   },
   "outputs": [],
   "source": [
    "cam_w = 2048\n",
    "cam_h = 1536\n",
    "cam_arr = np.zeros((cam_h, cam_w), dtype='float32')\n",
    "txtbitmap = make_text_fast('hello', cam_arr, margins=(500,500,500,500))"
   ]
  },
  {
   "cell_type": "code",
   "execution_count": 86,
   "metadata": {},
   "outputs": [
    {
     "data": {
      "text/plain": [
       "<matplotlib.image.AxesImage at 0x21f96e15668>"
      ]
     },
     "execution_count": 86,
     "metadata": {},
     "output_type": "execute_result"
    },
    {
     "data": {
      "image/png": "[encoded data removed]",
      "text/plain": [
       "<matplotlib.figure.Figure at 0x21f9668d978>"
      ]
     },
     "metadata": {},
     "output_type": "display_data"
    }
   ],
   "source": [
    "plt.imshow(txtbitmap)"
   ]
  },
  {
   "cell_type": "code",
   "execution_count": 9,
   "metadata": {
    "collapsed": true
   },
   "outputs": [],
   "source": [
    "# dmd_arr = np.zeros_like(cam_arr)\n",
    "dmd_arr = cv2.warpAffine(cam_arr, pic_to_dmd, (1024,768))\n",
    "dmd_arr *= 255"
   ]
  },
  {
   "cell_type": "code",
   "execution_count": 88,
   "metadata": {},
   "outputs": [
    {
     "data": {
      "text/plain": [
       "<matplotlib.image.AxesImage at 0x21f96eaff60>"
      ]
     },
     "execution_count": 88,
     "metadata": {},
     "output_type": "execute_result"
    },
    {
     "data": {
      "image/png": "[encoded data removed]",
      "text/plain": [
       "<matplotlib.figure.Figure at 0x21f96e4ca20>"
      ]
     },
     "metadata": {},
     "output_type": "display_data"
    }
   ],
   "source": [
    "plt.imshow(dmd_arr)"
   ]
  },
  {
   "cell_type": "code",
   "execution_count": 89,
   "metadata": {},
   "outputs": [
    {
     "name": "stdout",
     "output_type": "stream",
     "text": [
      "Device image size is 1024 x 768.\n",
      "set PROJ_MODE: master 0\n",
      "Press Enter key to end...\n"
     ]
    }
   ],
   "source": [
    "disp_image_pattern(dmd_arr.astype('uint8'))"
   ]
  },
  {
   "cell_type": "code",
   "execution_count": 1,
   "metadata": {},
   "outputs": [
    {
     "ename": "NameError",
     "evalue": "name 'pic_to_dmd' is not defined",
     "traceback": [
      "\u001b[1;31m---------------------------------------------------------------------------\u001b[0m",
      "\u001b[1;31mNameError\u001b[0m                                 Traceback (most recent call last)",
      "\u001b[1;32m<ipython-input-1-a1428fa66f98>\u001b[0m in \u001b[0;36m<module>\u001b[1;34m()\u001b[0m\n\u001b[1;32m----> 1\u001b[1;33m \u001b[0mpic_to_dmd\u001b[0m\u001b[1;33m\u001b[0m\u001b[0m\n\u001b[0m",
      "\u001b[1;31mNameError\u001b[0m: name 'pic_to_dmd' is not defined"
     ],
     "output_type": "error"
    }
   ],
   "source": [
    "pic_to_dmd"
   ]
  },
  {
   "cell_type": "code",
   "execution_count": 10,
   "metadata": {
    "collapsed": true
   },
   "outputs": [],
   "source": [
    "import pickle"
   ]
  },
  {
   "cell_type": "code",
   "execution_count": 11,
   "metadata": {
    "collapsed": true
   },
   "outputs": [],
   "source": [
    "forsave = {'camera_points': pic, 'dmd_points': dmd, 'cam_to_dmd': pic_to_dmd}"
   ]
  },
  {
   "cell_type": "code",
   "execution_count": 14,
   "metadata": {
    "collapsed": true
   },
   "outputs": [],
   "source": [
    "with open('d:/patters/mouse_11101/transform.pickle', 'wb') as f:\n",
    "    pickle.dump(forsave, f)"
   ]
  },
  {
   "cell_type": "code",
   "execution_count": 36,
   "metadata": {
    "collapsed": true
   },
   "outputs": [],
   "source": [
    "with open('transform.pickle', 'rb') as f2:\n",
    "    a = pickle.load(f2)"
   ]
  },
  {
   "cell_type": "code",
   "execution_count": 39,
   "metadata": {},
   "outputs": [
    {
     "data": {
      "text/plain": [
       "'C:\\\\Users\\\\labadmin\\\\Dropbox\\\\PycharmProjects_ephys\\\\DmdLib\\\\testing'"
      ]
     },
     "execution_count": 39,
     "metadata": {},
     "output_type": "execute_result"
    }
   ],
   "source": [
    "pwd"
   ]
  },
  {
   "cell_type": "code",
   "execution_count": 41,
   "metadata": {},
   "outputs": [
    {
     "name": "stdout",
     "output_type": "stream",
     "text": [
      " Volume in drive C is BOOT\n",
      " Volume Serial Number is 469D-0D27\n",
      "\n",
      " Directory of C:\\Users\\labadmin\\Dropbox\\PycharmProjects_ephys\\DmdLib\\testing\n",
      "\n",
      "09/15/2017  04:14 PM    <DIR>          .\n",
      "09/15/2017  04:14 PM    <DIR>          ..\n",
      "09/15/2017  10:35 AM    <DIR>          .ipynb_checkpoints\n",
      "09/11/2017  05:00 PM    <DIR>          __pycache__\n",
      "09/13/2017  11:14 AM            12,917 dmd upload basics.ipynb\n",
      "09/11/2017  10:45 AM             3,809 dmd upload loop.ipynb\n",
      "09/15/2017  04:14 PM            20,282 image to dmd transform.ipynb\n",
      "09/11/2017  10:23 AM            24,684 number image generator.ipynb\n",
      "09/13/2017  09:00 AM             1,428 progress.ipynb\n",
      "09/14/2017  09:58 AM            47,547 rand performance testing.ipynb\n",
      "09/11/2017  04:59 PM             2,704 test_imgen.py\n",
      "09/11/2017  10:06 AM             2,129 test_imgen.pyc\n",
      "09/15/2017  04:05 PM               431 transform.json\n",
      "09/11/2017  10:45 AM             1,410 tt.ipynb\n",
      "09/11/2017  01:39 PM               582 Untitled.ipynb\n",
      "09/14/2017  09:47 AM             7,285 Untitled1.ipynb\n",
      "09/14/2017  10:20 AM               677 Untitled2.ipynb\n",
      "09/15/2017  02:58 PM             5,566 Untitled3.ipynb\n",
      "              14 File(s)        131,451 bytes\n",
      "               4 Dir(s)  28,337,315,840 bytes free\n"
     ]
    }
   ],
   "source": [
    "ls"
   ]
  },
  {
   "cell_type": "code",
   "execution_count": null,
   "metadata": {
    "collapsed": true
   },
   "outputs": [],
   "source": []
  }
 ],
 "metadata": {
  "kernelspec": {
   "display_name": "Python [conda env:py3k]",
   "language": "python",
   "name": "conda-env-py3k-py"
  },
  "language_info": {
   "codemirror_mode": {
    "name": "ipython",
    "version": 3
   },
   "file_extension": ".py",
   "mimetype": "text/x-python",
   "name": "python",
   "nbconvert_exporter": "python",
   "pygments_lexer": "ipython3",
   "version": "3.6.2"
  }
 },
 "nbformat": 4,
 "nbformat_minor": 2
}
