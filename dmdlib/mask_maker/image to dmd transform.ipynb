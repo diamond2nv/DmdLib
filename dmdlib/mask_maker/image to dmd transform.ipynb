{
 "cells": [
  {
   "cell_type": "code",
   "execution_count": 1,
   "metadata": {
    "collapsed": true
   },
   "outputs": [],
   "source": [
    "import numpy as np\n",
    "import PIL\n",
    "import cv2\n",
    "import matplotlib.pyplot as plt\n",
    "from dmdlib.ALP import *\n",
    "%matplotlib inline"
   ]
  },
  {
   "cell_type": "code",
   "execution_count": 10,
   "metadata": {
    "collapsed": true
   },
   "outputs": [],
   "source": [
    "dmd = np.array([[1024//2+55, 768//2-20], [1024//2-15, 768//2+1 ], [1024//2-50, 768//2-100]], dtype='float32')\n",
    "pic = np.array([[699, 623], [955, 1095], [1665, 748]], dtype='float32')"
   ]
  },
  {
   "cell_type": "code",
   "execution_count": 11,
   "metadata": {},
   "outputs": [],
   "source": [
    "pic_to_dmd = cv2.getAffineTransform(pic, dmd)"
   ]
  },
  {
   "cell_type": "code",
   "execution_count": 12,
   "metadata": {
    "collapsed": true
   },
   "outputs": [],
   "source": [
    "from PIL import Image, ImageFont\n",
    "import numpy as np\n",
    "import numba\n",
    "\n",
    "font = ImageFont.load_default()\n",
    "\n",
    "def make_text_fast(text, array, margins=(10, 10, 150, 150),):\n",
    "    height, width = array.shape\n",
    "    mask = font.getmask(text)\n",
    "    mask_array = np.asarray(mask, dtype=bool)\n",
    "    mask_array.shape = mask.size[1], mask.size[0]\n",
    "    top, bottom, left, right = margins\n",
    "    _array_maker(array, mask_array, top, bottom, left, right, width, height)\n",
    "    return array\n",
    "\n",
    "# @numba.jit(nopython=True, parallel=True)\n",
    "def _array_maker(arrayout, arrayin, top, bottom, left, right, width, height):\n",
    "    W_margins = width - right - left\n",
    "    H_margins = height - top - bottom\n",
    "    mH, mW = arrayin.shape\n",
    "    W_scale = np.ceil(W_margins / mW)\n",
    "    H_scale = np.ceil(H_margins / mH)\n",
    "\n",
    "    for x in range(W_margins):\n",
    "        x_mask = int(x // W_scale)\n",
    "        for y in range(H_margins):\n",
    "            y_mask = int(y // H_scale)\n",
    "            maskv = arrayin[y_mask, x_mask]\n",
    "            arrayout[y+top, x+left] = maskv\n",
    "    return"
   ]
  },
  {
   "cell_type": "code",
   "execution_count": 15,
   "metadata": {},
   "outputs": [],
   "source": [
    "cam_w = 2048\n",
    "cam_h = 1536\n",
    "cam_arr = np.zeros((cam_h, cam_w), dtype='float32')\n",
    "txtbitmap = make_text_fast('hello', cam_arr, margins=(500,500,500,500))"
   ]
  },
  {
   "cell_type": "code",
   "execution_count": 16,
   "metadata": {},
   "outputs": [
    {
     "data": {
      "text/plain": [
       "<matplotlib.image.AxesImage at 0x2643c271240>"
      ]
     },
     "execution_count": 16,
     "metadata": {},
     "output_type": "execute_result"
    },
    {
     "data": {
      "image/png": "[encoded data removed]",
      "text/plain": [
       "<matplotlib.figure.Figure at 0x2643c2186d8>"
      ]
     },
     "metadata": {},
     "output_type": "display_data"
    }
   ],
   "source": [
    "plt.imshow(txtbitmap)"
   ]
  },
  {
   "cell_type": "code",
   "execution_count": 17,
   "metadata": {},
   "outputs": [],
   "source": [
    "# dmd_arr = np.zeros_like(cam_arr)\n",
    "dmd_arr = cv2.warpAffine(cam_arr, pic_to_dmd, (1024,768))\n",
    "dmd_arr *= 255"
   ]
  },
  {
   "cell_type": "code",
   "execution_count": 18,
   "metadata": {},
   "outputs": [
    {
     "data": {
      "text/plain": [
       "<matplotlib.image.AxesImage at 0x2643c629208>"
      ]
     },
     "execution_count": 18,
     "metadata": {},
     "output_type": "execute_result"
    },
    {
     "data": {
      "image/png": "[encoded data removed]",
      "text/plain": [
       "<matplotlib.figure.Figure at 0x2643c2b61d0>"
      ]
     },
     "metadata": {},
     "output_type": "display_data"
    }
   ],
   "source": [
    "plt.imshow(dmd_arr)"
   ]
  },
  {
   "cell_type": "code",
   "execution_count": 19,
   "metadata": {},
   "outputs": [
    {
     "name": "stdout",
     "output_type": "stream",
     "text": [
      "Device image size is 1024 x 768.\n",
      "set PROJ_MODE: master 0\n",
      "Press Enter key to end...\n"
     ]
    }
   ],
   "source": [
    "disp_image_pattern(dmd_arr.astype('uint8'))"
   ]
  },
  {
   "cell_type": "code",
   "execution_count": 20,
   "metadata": {},
   "outputs": [
    {
     "data": {
      "text/plain": [
       "array([[ -9.62608975e-02,  -9.60957844e-02,   6.94154041e+02],\n",
       "       [ -9.52584255e-02,   9.61571121e-02,   3.70679759e+02]])"
      ]
     },
     "execution_count": 20,
     "metadata": {},
     "output_type": "execute_result"
    }
   ],
   "source": [
    "pic_to_dmd"
   ]
  },
  {
   "cell_type": "code",
   "execution_count": 30,
   "metadata": {
    "collapsed": true
   },
   "outputs": [],
   "source": [
    "import pickle"
   ]
  },
  {
   "cell_type": "code",
   "execution_count": 32,
   "metadata": {
    "collapsed": true
   },
   "outputs": [],
   "source": [
    "forsave = {'camera_points': pic, 'dmd_points': dmd, 'cam_to_dmd': pic_to_dmd}"
   ]
  },
  {
   "cell_type": "code",
   "execution_count": 42,
   "metadata": {},
   "outputs": [],
   "source": [
    "with open('transform.pickle', 'wb') as f:\n",
    "    pickle.dump(forsave, f)"
   ]
  },
  {
   "cell_type": "code",
   "execution_count": 36,
   "metadata": {},
   "outputs": [],
   "source": [
    "with open('transform.pickle', 'rb') as f2:\n",
    "    a = pickle.load(f2)"
   ]
  },
  {
   "cell_type": "code",
   "execution_count": 39,
   "metadata": {},
   "outputs": [
    {
     "data": {
      "text/plain": [
       "'C:\\\\Users\\\\labadmin\\\\Dropbox\\\\PycharmProjects_ephys\\\\DmdLib\\\\testing'"
      ]
     },
     "execution_count": 39,
     "metadata": {},
     "output_type": "execute_result"
    }
   ],
   "source": [
    "pwd"
   ]
  },
  {
   "cell_type": "code",
   "execution_count": 41,
   "metadata": {},
   "outputs": [
    {
     "name": "stdout",
     "output_type": "stream",
     "text": [
      " Volume in drive C is BOOT\n",
      " Volume Serial Number is 469D-0D27\n",
      "\n",
      " Directory of C:\\Users\\labadmin\\Dropbox\\PycharmProjects_ephys\\DmdLib\\testing\n",
      "\n",
      "09/15/2017  04:14 PM    <DIR>          .\n",
      "09/15/2017  04:14 PM    <DIR>          ..\n",
      "09/15/2017  10:35 AM    <DIR>          .ipynb_checkpoints\n",
      "09/11/2017  05:00 PM    <DIR>          __pycache__\n",
      "09/13/2017  11:14 AM            12,917 dmd upload basics.ipynb\n",
      "09/11/2017  10:45 AM             3,809 dmd upload loop.ipynb\n",
      "09/15/2017  04:14 PM            20,282 image to dmd transform.ipynb\n",
      "09/11/2017  10:23 AM            24,684 number image generator.ipynb\n",
      "09/13/2017  09:00 AM             1,428 progress.ipynb\n",
      "09/14/2017  09:58 AM            47,547 rand performance testing.ipynb\n",
      "09/11/2017  04:59 PM             2,704 test_imgen.py\n",
      "09/11/2017  10:06 AM             2,129 test_imgen.pyc\n",
      "09/15/2017  04:05 PM               431 transform.json\n",
      "09/11/2017  10:45 AM             1,410 tt.ipynb\n",
      "09/11/2017  01:39 PM               582 Untitled.ipynb\n",
      "09/14/2017  09:47 AM             7,285 Untitled1.ipynb\n",
      "09/14/2017  10:20 AM               677 Untitled2.ipynb\n",
      "09/15/2017  02:58 PM             5,566 Untitled3.ipynb\n",
      "              14 File(s)        131,451 bytes\n",
      "               4 Dir(s)  28,337,315,840 bytes free\n"
     ]
    }
   ],
   "source": [
    "ls"
   ]
  },
  {
   "cell_type": "code",
   "execution_count": null,
   "metadata": {
    "collapsed": true
   },
   "outputs": [],
   "source": []
  }
 ],
 "metadata": {
  "kernelspec": {
   "display_name": "Python [conda env:py3k]",
   "language": "python",
   "name": "conda-env-py3k-py"
  },
  "language_info": {
   "codemirror_mode": {
    "name": "ipython",
    "version": 3
   },
   "file_extension": ".py",
   "mimetype": "text/x-python",
   "name": "python",
   "nbconvert_exporter": "python",
   "pygments_lexer": "ipython3",
   "version": "3.6.2"
  }
 },
 "nbformat": 4,
 "nbformat_minor": 2
}
